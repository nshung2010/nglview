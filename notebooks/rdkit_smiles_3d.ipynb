{
 "cells": [
  {
   "cell_type": "markdown",
   "metadata": {},
   "source": [
    "# Requirement: rdkit\n",
    "\n",
    "```bash\n",
    "conda install rdkit -c rdkit\n",
    "```"
   ]
  },
  {
   "cell_type": "code",
   "execution_count": 97,
   "metadata": {},
   "outputs": [
    {
     "data": {
      "application/vnd.jupyter.widget-view+json": {
       "model_id": "708bae9b352f457fb2ddac3002e700be",
       "version_major": 2,
       "version_minor": 0
      },
      "text/plain": [
       "HTML(value='\\n<style>\\n\\n.smilesApp {\\n    background-color: white\\n}\\n</style>\\n')"
      ]
     },
     "metadata": {},
     "output_type": "display_data"
    }
   ],
   "source": [
    "from ipywidgets import HTML\n",
    "\n",
    "HTML(\"\"\"\n",
    "<style>\n",
    "\n",
    ".smilesApp {\n",
    "    background-color: white\n",
    "}\n",
    "</style>\n",
    "\"\"\")"
   ]
  },
  {
   "cell_type": "code",
   "execution_count": 174,
   "metadata": {},
   "outputs": [
    {
     "data": {
      "application/vnd.jupyter.widget-view+json": {
       "model_id": "0f6456b70b5b44a4b717822c30fda37e",
       "version_major": 2,
       "version_minor": 0
      },
      "text/plain": [
       "Fullscreen()"
      ]
     },
     "metadata": {},
     "output_type": "display_data"
    },
    {
     "data": {
      "application/vnd.jupyter.widget-view+json": {
       "model_id": "6057e172653d4603afa7b981d4d9091a",
       "version_major": 2,
       "version_minor": 0
      },
      "text/plain": [
       "SmilesView(children=(HBox(children=(VBox(children=(Text(value=''), Output())), VBox(children=(Button(descripti…"
      ]
     },
     "metadata": {},
     "output_type": "display_data"
    }
   ],
   "source": [
    "import nglview as nv\n",
    "from IPython.display import display\n",
    "from nglview.widget import Fullscreen\n",
    "from ipywidgets import Text, Button, AppLayout, VBox, HBox, Output, GridspecLayout\n",
    "import nglview as nv\n",
    "from rdkit import Chem # doctest: +SKIP\n",
    "from rdkit.Chem import AllChem\n",
    "from rdkit import Chem\n",
    "\n",
    "\n",
    "class SmilesView(AppLayout):\n",
    "    def __init__(self, *args, **kwargs):\n",
    "        super().__init__(*args, **kwargs)\n",
    "        self.view = nv.NGLWidget()\n",
    "        # self.view.gui_style = 'ngl'\n",
    "        self.text = Text()\n",
    "        btn = Button(description='Generate')\n",
    "        btn_fs = Button(description='Fullscreen')\n",
    "        self.center = self.view\n",
    "        self._out = Output()\n",
    "        self._check = Checkbox(description='Replace', value=True)\n",
    "        bgen = VBox([self.text, self._out])\n",
    "        bfull = VBox([btn, btn_fs])\n",
    "        footer = self.footer = HBox([bgen, bfull])\n",
    "        self._fs = Fullscreen(self, [self.view])\n",
    "        self.footer.layout.justify_content = 'center'\n",
    "        display(self._fs)\n",
    "        \n",
    "        @btn.on_click\n",
    "        def on_click_smiles(_):\n",
    "            self._handle_smiles_changed()\n",
    "        \n",
    "        @btn_fs.on_click\n",
    "        def on_click_fs(_):\n",
    "            self._fs.fullscreen()\n",
    "            \n",
    "    def _handle_smiles_changed(self):\n",
    "        self._out.clear_output()\n",
    "        st = None\n",
    "        with Output() as out2:\n",
    "            m = Chem.MolFromSmiles(self.text.value)\n",
    "            m = Chem.AddHs(m)\n",
    "            Chem.AllChem.EmbedMultipleConfs(m, useExpTorsionAnglePrefs=True, useBasicKnowledge=True)\n",
    "            st = nv.RdkitStructure(m)\n",
    "\n",
    "        if st:\n",
    "            if self._check.value:\n",
    "                if self.view.n_components > 0:\n",
    "                    for c in self.view:\n",
    "                        print(c.id)\n",
    "                        self.view.remove_component(c)\n",
    "            self.view.add_component(st)\n",
    "        else:\n",
    "            self._out.append_stdout(\"ERROR: bad input\")\n",
    "        \n",
    "s = SmilesView()\n",
    "s.add_class('smilesApp')\n",
    "# smiles example:\n",
    "# Cc1ccccc1\n",
    "s"
   ]
  }
 ],
 "metadata": {
  "kernelspec": {
   "display_name": "Python 3",
   "language": "python",
   "name": "python3"
  },
  "language_info": {
   "codemirror_mode": {
    "name": "ipython",
    "version": 3
   },
   "file_extension": ".py",
   "mimetype": "text/x-python",
   "name": "python",
   "nbconvert_exporter": "python",
   "pygments_lexer": "ipython3",
   "version": "3.7.3"
  }
 },
 "nbformat": 4,
 "nbformat_minor": 2
}
